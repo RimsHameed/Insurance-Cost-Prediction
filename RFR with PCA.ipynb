{
 "cells": [
  {
   "cell_type": "code",
   "execution_count": 1,
   "metadata": {},
   "outputs": [],
   "source": [
    "import numpy as np\n",
    "import matplotlib.pyplot as plt \n",
    "import pandas as pd "
   ]
  },
  {
   "cell_type": "code",
   "execution_count": 2,
   "metadata": {},
   "outputs": [],
   "source": [
    "data = pd.read_csv('insurance.csv')\n",
    "\n",
    "#Label encoding for the sex and smoker feature\n",
    "from sklearn.preprocessing import LabelEncoder\n",
    "number=LabelEncoder()\n",
    "data['sex']=number.fit_transform(data['sex'].astype('str'))\n",
    "data['smoker']=number.fit_transform(data['smoker'].astype('str'))"
   ]
  },
  {
   "cell_type": "code",
   "execution_count": 3,
   "metadata": {},
   "outputs": [
    {
     "data": {
      "text/html": [
       "<div>\n",
       "<style scoped>\n",
       "    .dataframe tbody tr th:only-of-type {\n",
       "        vertical-align: middle;\n",
       "    }\n",
       "\n",
       "    .dataframe tbody tr th {\n",
       "        vertical-align: top;\n",
       "    }\n",
       "\n",
       "    .dataframe thead th {\n",
       "        text-align: right;\n",
       "    }\n",
       "</style>\n",
       "<table border=\"1\" class=\"dataframe\">\n",
       "  <thead>\n",
       "    <tr style=\"text-align: right;\">\n",
       "      <th></th>\n",
       "      <th>age</th>\n",
       "      <th>sex</th>\n",
       "      <th>bmi</th>\n",
       "      <th>children</th>\n",
       "      <th>smoker</th>\n",
       "      <th>charges</th>\n",
       "      <th>northeast</th>\n",
       "      <th>northwest</th>\n",
       "      <th>southeast</th>\n",
       "      <th>southwest</th>\n",
       "    </tr>\n",
       "  </thead>\n",
       "  <tbody>\n",
       "    <tr>\n",
       "      <th>0</th>\n",
       "      <td>19</td>\n",
       "      <td>0</td>\n",
       "      <td>27.900</td>\n",
       "      <td>0</td>\n",
       "      <td>1</td>\n",
       "      <td>16884.92400</td>\n",
       "      <td>0</td>\n",
       "      <td>0</td>\n",
       "      <td>0</td>\n",
       "      <td>1</td>\n",
       "    </tr>\n",
       "    <tr>\n",
       "      <th>1</th>\n",
       "      <td>18</td>\n",
       "      <td>1</td>\n",
       "      <td>33.770</td>\n",
       "      <td>1</td>\n",
       "      <td>0</td>\n",
       "      <td>1725.55230</td>\n",
       "      <td>0</td>\n",
       "      <td>0</td>\n",
       "      <td>1</td>\n",
       "      <td>0</td>\n",
       "    </tr>\n",
       "    <tr>\n",
       "      <th>2</th>\n",
       "      <td>28</td>\n",
       "      <td>1</td>\n",
       "      <td>33.000</td>\n",
       "      <td>3</td>\n",
       "      <td>0</td>\n",
       "      <td>4449.46200</td>\n",
       "      <td>0</td>\n",
       "      <td>0</td>\n",
       "      <td>1</td>\n",
       "      <td>0</td>\n",
       "    </tr>\n",
       "    <tr>\n",
       "      <th>3</th>\n",
       "      <td>33</td>\n",
       "      <td>1</td>\n",
       "      <td>22.705</td>\n",
       "      <td>0</td>\n",
       "      <td>0</td>\n",
       "      <td>21984.47061</td>\n",
       "      <td>0</td>\n",
       "      <td>1</td>\n",
       "      <td>0</td>\n",
       "      <td>0</td>\n",
       "    </tr>\n",
       "    <tr>\n",
       "      <th>4</th>\n",
       "      <td>32</td>\n",
       "      <td>1</td>\n",
       "      <td>28.880</td>\n",
       "      <td>0</td>\n",
       "      <td>0</td>\n",
       "      <td>3866.85520</td>\n",
       "      <td>0</td>\n",
       "      <td>1</td>\n",
       "      <td>0</td>\n",
       "      <td>0</td>\n",
       "    </tr>\n",
       "  </tbody>\n",
       "</table>\n",
       "</div>"
      ],
      "text/plain": [
       "   age  sex     bmi  children  smoker      charges  northeast  northwest  \\\n",
       "0   19    0  27.900         0       1  16884.92400          0          0   \n",
       "1   18    1  33.770         1       0   1725.55230          0          0   \n",
       "2   28    1  33.000         3       0   4449.46200          0          0   \n",
       "3   33    1  22.705         0       0  21984.47061          0          1   \n",
       "4   32    1  28.880         0       0   3866.85520          0          1   \n",
       "\n",
       "   southeast  southwest  \n",
       "0          0          1  \n",
       "1          1          0  \n",
       "2          1          0  \n",
       "3          0          0  \n",
       "4          0          0  "
      ]
     },
     "execution_count": 3,
     "metadata": {},
     "output_type": "execute_result"
    }
   ],
   "source": [
    "#One Hot encoding for the region feature\n",
    "#Drop the region feature and append 4 new features\n",
    "regions = pd.get_dummies(data['region'])\n",
    "data[['northeast','northwest','southeast','southwest']]=regions[['northeast','northwest','southeast','southwest']]\n",
    "data = data.drop('region',axis=1)\n",
    "data.head()"
   ]
  },
  {
   "cell_type": "code",
   "execution_count": 4,
   "metadata": {},
   "outputs": [
    {
     "name": "stdout",
     "output_type": "stream",
     "text": [
      "           age       sex       bmi  children    smoker  northeast  northwest  \\\n",
      "0    -1.438764 -1.010519 -0.453320 -0.908614  1.970587  -0.565267  -0.566418   \n",
      "1    -1.509965  0.989591  0.509621 -0.078767 -0.507463  -0.565267  -0.566418   \n",
      "2    -0.797954  0.989591  0.383307  1.580926 -0.507463  -0.565267  -0.566418   \n",
      "3    -0.441948  0.989591 -1.305531 -0.908614 -0.507463  -0.565267   1.765481   \n",
      "4    -0.513149  0.989591 -0.292556 -0.908614 -0.507463  -0.565267   1.765481   \n",
      "...        ...       ...       ...       ...       ...        ...        ...   \n",
      "1333  0.768473  0.989591  0.050297  1.580926 -0.507463  -0.565267   1.765481   \n",
      "1334 -1.509965 -1.010519  0.206139 -0.908614 -0.507463   1.769076  -0.566418   \n",
      "1335 -1.509965 -1.010519  1.014878 -0.908614 -0.507463  -0.565267  -0.566418   \n",
      "1336 -1.296362 -1.010519 -0.797813 -0.908614 -0.507463  -0.565267  -0.566418   \n",
      "1337  1.551686 -1.010519 -0.261388 -0.908614  1.970587  -0.565267   1.765481   \n",
      "\n",
      "      southeast  southwest  \n",
      "0     -0.611324   1.765481  \n",
      "1      1.635795  -0.566418  \n",
      "2      1.635795  -0.566418  \n",
      "3     -0.611324  -0.566418  \n",
      "4     -0.611324  -0.566418  \n",
      "...         ...        ...  \n",
      "1333  -0.611324  -0.566418  \n",
      "1334  -0.611324  -0.566418  \n",
      "1335   1.635795  -0.566418  \n",
      "1336  -0.611324   1.765481  \n",
      "1337  -0.611324  -0.566418  \n",
      "\n",
      "[1338 rows x 9 columns] 0       0.298584\n",
      "1      -0.953689\n",
      "2      -0.728675\n",
      "3       0.719843\n",
      "4      -0.776802\n",
      "          ...   \n",
      "1333   -0.220551\n",
      "1334   -0.914002\n",
      "1335   -0.961596\n",
      "1336   -0.930362\n",
      "1337    1.311053\n",
      "Name: charges, Length: 1338, dtype: float64\n"
     ]
    }
   ],
   "source": [
    "#Standardization of the data\n",
    "from sklearn.preprocessing import StandardScaler\n",
    "data[['age','sex','bmi','children','smoker','charges','northeast','northwest','southeast','southwest']] = StandardScaler().fit_transform(data[['age','sex','bmi','children','smoker','charges','northeast','northwest','southeast','southwest']])\n",
    "\n",
    "Y = data.charges\n",
    "X = data.drop('charges',axis=1)\n",
    "print(X,Y)"
   ]
  },
  {
   "cell_type": "code",
   "execution_count": 5,
   "metadata": {},
   "outputs": [],
   "source": [
    "#Splitting the data into test and train\n",
    "from sklearn.model_selection import train_test_split\n",
    "X_train, X_test, Y_train, Y_test = train_test_split(X, Y, test_size=0.25,random_state=0)"
   ]
  },
  {
   "cell_type": "code",
   "execution_count": 6,
   "metadata": {},
   "outputs": [],
   "source": [
    "from sklearn.manifold import TSNE\n",
    "from sklearn.decomposition import PCA"
   ]
  },
  {
   "cell_type": "code",
   "execution_count": 24,
   "metadata": {},
   "outputs": [
    {
     "name": "stdout",
     "output_type": "stream",
     "text": [
      "[1.78705917e-01 1.54605325e-01 8.32951311e-02 1.40194292e-01\n",
      " 9.71265541e-02 1.23440697e-01 1.17215057e-01 1.05417027e-01\n",
      " 1.55807232e-16]\n"
     ]
    },
    {
     "data": {
      "text/plain": [
       "Text(0, 0.5, 'Cumulative explained variance')"
      ]
     },
     "execution_count": 24,
     "metadata": {},
     "output_type": "execute_result"
    },
    {
     "data": {
      "image/png": "[encoded data removed]",
      "text/plain": [
       "<Figure size 432x288 with 1 Axes>"
      ]
     },
     "metadata": {
      "needs_background": "light"
     },
     "output_type": "display_data"
    }
   ],
   "source": [
    "# Calculating Eigenvectors and eigenvalues of Cov matirx\n",
    "X_std=X_train\n",
    "mean_vec = np.mean(X_std, axis=0)\n",
    "cov_mat = np.cov(X_std.T)\n",
    "eig_vals, eig_vecs = np.linalg.eig(cov_mat)\n",
    "# Create a list of (eigenvalue, eigenvector) tuples\n",
    "eig_pairs = [ (np.abs(eig_vals[i]),eig_vecs[:,i],i) for i in range(len(eig_vals))]\n",
    "print(eig_vals/sum(eig_vals))\n",
    "\n",
    "# Sort the eigenvalue, eigenvector pair from high to low\n",
    "eig_pairs.sort(key = lambda x: x[0], reverse= True)\n",
    "\n",
    "# Calculation of Explained Variance from the eigenvalues\n",
    "tot = sum(eig_vals)\n",
    "var_exp = [(i/tot)*100 for i in sorted(eig_vals, reverse=True)] # Individual explained variance\n",
    "cum_var_exp = np.cumsum(var_exp) # Cumulative explained variance\n",
    "plt.plot(cum_var_exp)\n",
    "plt.xlim(0,9,1)\n",
    "plt.xlabel('Number of components')\n",
    "plt.ylabel('Cumulative explained variance')"
   ]
  },
  {
   "cell_type": "code",
   "execution_count": 8,
   "metadata": {},
   "outputs": [
    {
     "data": {
      "text/plain": [
       "6"
      ]
     },
     "execution_count": 8,
     "metadata": {},
     "output_type": "execute_result"
    }
   ],
   "source": [
    "# Find the eigenvector beyond which 90% of the data is explained\n",
    "[ n for n,i in enumerate(cum_var_exp) if i>90 ][0]"
   ]
  },
  {
   "cell_type": "code",
   "execution_count": 9,
   "metadata": {},
   "outputs": [],
   "source": [
    "# Call the PCA method with 6 components. \n",
    "pca = PCA(n_components=6)\n",
    "pca.fit(X_std)\n",
    "X_6d = pca.transform(X_std)"
   ]
  },
  {
   "cell_type": "code",
   "execution_count": 10,
   "metadata": {},
   "outputs": [
    {
     "name": "stdout",
     "output_type": "stream",
     "text": [
      "[[ 1.27820423 -0.2022667  -0.27871163  0.25140661 -1.14292918  0.93509487]\n",
      " [-1.27797958 -0.89681984  1.75120036 -1.2823557  -1.18230023  0.02348738]\n",
      " [-1.16135303  1.65849337 -0.05089703  1.63861345  0.1153053  -0.71966161]\n",
      " ...\n",
      " [ 1.12056604 -0.4994026  -0.06390613  0.74087161 -0.42497401 -0.97214284]\n",
      " [-0.38567793 -1.07747779 -1.54525996  0.81634265 -0.1736808  -1.38897908]\n",
      " [-1.80070806  1.63109724 -0.13245344  0.72366175 -0.83198263  0.75724679]]\n"
     ]
    }
   ],
   "source": [
    "print(X_6d)"
   ]
  },
  {
   "cell_type": "code",
   "execution_count": 11,
   "metadata": {},
   "outputs": [
    {
     "data": {
      "text/plain": [
       "RandomForestRegressor(n_estimators=500)"
      ]
     },
     "execution_count": 11,
     "metadata": {},
     "output_type": "execute_result"
    }
   ],
   "source": [
    "# Call the Random Forest Regressor\n",
    "from sklearn.ensemble import RandomForestRegressor as RFR\n",
    "\n",
    "regressor = RFR(n_estimators = 500)\n",
    "\n",
    "regressor.fit(X_6d, Y_train)   "
   ]
  },
  {
   "cell_type": "code",
   "execution_count": 12,
   "metadata": {},
   "outputs": [],
   "source": [
    "#Testing the RFR with PCA\n",
    "test_6d = pca.transform(X_test)\n",
    "output_predictions = regressor.predict(test_6d)"
   ]
  },
  {
   "cell_type": "code",
   "execution_count": 13,
   "metadata": {},
   "outputs": [
    {
     "name": "stdout",
     "output_type": "stream",
     "text": [
      "0.7385061955061644\n",
      "0.5300275950652381\n"
     ]
    }
   ],
   "source": [
    "#Calculating Accuracy using R2 score and RMSE value\n",
    "from sklearn.metrics import r2_score,mean_squared_error\n",
    "print(r2_score(Y_test,output_predictions))\n",
    "print(mean_squared_error(Y_test,output_predictions)**0.5)"
   ]
  },
  {
   "cell_type": "code",
   "execution_count": 14,
   "metadata": {},
   "outputs": [
    {
     "data": {
      "text/plain": [
       "<matplotlib.collections.PathCollection at 0x7fd105b34460>"
      ]
     },
     "execution_count": 14,
     "metadata": {},
     "output_type": "execute_result"
    },
    {
     "data": {
      "image/png": "[encoded data removed]",
      "text/plain": [
       "<Figure size 432x288 with 1 Axes>"
      ]
     },
     "metadata": {
      "needs_background": "light"
     },
     "output_type": "display_data"
    }
   ],
   "source": [
    "# Output Predictions Vs Actual Charges\n",
    "plt.scatter(output_predictions,Y_test)"
   ]
  },
  {
   "cell_type": "code",
   "execution_count": 15,
   "metadata": {},
   "outputs": [],
   "source": [
    "#Most significant feature are age,sex,children,northeast,northwest,southeast"
   ]
  },
  {
   "cell_type": "code",
   "execution_count": 16,
   "metadata": {},
   "outputs": [
    {
     "data": {
      "text/plain": [
       "<matplotlib.collections.PathCollection at 0x7fd105ac0880>"
      ]
     },
     "execution_count": 16,
     "metadata": {},
     "output_type": "execute_result"
    },
    {
     "data": {
      "image/png": "[encoded data removed]",
      "text/plain": [
       "<Figure size 432x288 with 1 Axes>"
      ]
     },
     "metadata": {
      "needs_background": "light"
     },
     "output_type": "display_data"
    }
   ],
   "source": [
    "# Output Predictions Vs age\n",
    "plt.scatter(output_predictions,X_test['age'])"
   ]
  },
  {
   "cell_type": "code",
   "execution_count": 17,
   "metadata": {},
   "outputs": [
    {
     "data": {
      "text/plain": [
       "<matplotlib.collections.PathCollection at 0x7fd105a1f880>"
      ]
     },
     "execution_count": 17,
     "metadata": {},
     "output_type": "execute_result"
    },
    {
     "data": {
      "image/png": "[encoded data removed]",
      "text/plain": [
       "<Figure size 432x288 with 1 Axes>"
      ]
     },
     "metadata": {
      "needs_background": "light"
     },
     "output_type": "display_data"
    }
   ],
   "source": [
    "# Output Predictions Vs sex\n",
    "plt.scatter(output_predictions,X_test['sex'])"
   ]
  },
  {
   "cell_type": "code",
   "execution_count": 19,
   "metadata": {},
   "outputs": [
    {
     "data": {
      "text/plain": [
       "<matplotlib.collections.PathCollection at 0x7fd1059600d0>"
      ]
     },
     "execution_count": 19,
     "metadata": {},
     "output_type": "execute_result"
    },
    {
     "data": {
      "image/png": "[encoded data removed]",
      "text/plain": [
       "<Figure size 432x288 with 1 Axes>"
      ]
     },
     "metadata": {
      "needs_background": "light"
     },
     "output_type": "display_data"
    }
   ],
   "source": [
    "# Output Predictions Vs children\n",
    "plt.scatter(output_predictions,X_test['children'])"
   ]
  },
  {
   "cell_type": "code",
   "execution_count": 20,
   "metadata": {},
   "outputs": [
    {
     "data": {
      "text/plain": [
       "<matplotlib.collections.PathCollection at 0x7fd10592bb80>"
      ]
     },
     "execution_count": 20,
     "metadata": {},
     "output_type": "execute_result"
    },
    {
     "data": {
      "image/png": "[encoded data removed]",
      "text/plain": [
       "<Figure size 432x288 with 1 Axes>"
      ]
     },
     "metadata": {
      "needs_background": "light"
     },
     "output_type": "display_data"
    }
   ],
   "source": [
    "# Output Predictions Vs northeast\n",
    "plt.scatter(output_predictions,X_test['northeast'])"
   ]
  },
  {
   "cell_type": "code",
   "execution_count": 21,
   "metadata": {},
   "outputs": [
    {
     "data": {
      "text/plain": [
       "<matplotlib.collections.PathCollection at 0x7fd105904730>"
      ]
     },
     "execution_count": 21,
     "metadata": {},
     "output_type": "execute_result"
    },
    {
     "data": {
      "image/png": "[encoded data removed]",
      "text/plain": [
       "<Figure size 432x288 with 1 Axes>"
      ]
     },
     "metadata": {
      "needs_background": "light"
     },
     "output_type": "display_data"
    }
   ],
   "source": [
    "# Output Predictions Vs northwest\n",
    "plt.scatter(output_predictions,X_test['northwest'])"
   ]
  },
  {
   "cell_type": "code",
   "execution_count": 22,
   "metadata": {},
   "outputs": [
    {
     "data": {
      "text/plain": [
       "<matplotlib.collections.PathCollection at 0x7fd10585d1f0>"
      ]
     },
     "execution_count": 22,
     "metadata": {},
     "output_type": "execute_result"
    },
    {
     "data": {
      "image/png": "[encoded data removed]",
      "text/plain": [
       "<Figure size 432x288 with 1 Axes>"
      ]
     },
     "metadata": {
      "needs_background": "light"
     },
     "output_type": "display_data"
    }
   ],
   "source": [
    "# Output Predictions Vs southeast\n",
    "plt.scatter(output_predictions,X_test['southeast'])"
   ]
  }
 ],
 "metadata": {
  "kernelspec": {
   "display_name": "Python 3",
   "language": "python",
   "name": "python3"
  },
  "language_info": {
   "codemirror_mode": {
    "name": "ipython",
    "version": 3
   },
   "file_extension": ".py",
   "mimetype": "text/x-python",
   "name": "python",
   "nbconvert_exporter": "python",
   "pygments_lexer": "ipython3",
   "version": "3.8.5"
  }
 },
 "nbformat": 4,
 "nbformat_minor": 4
}
